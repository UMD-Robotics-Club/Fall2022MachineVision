{
 "cells": [
  {
   "cell_type": "markdown",
   "metadata": {},
   "source": [
    "### Preface\n",
    "Firstly, please know that your success with training YOLOv5 is very dependent on the hardware that's in your laptop. If you have a modern NVidia GPU, the training should go smoothly since the code was optimized to use NVidia hardware. However, if you have an older laptop, it may take a long time to obtain acceptable results. I'll give tips on how to optimize for an older system, but I can't guarantee that everything will work smoothly. \n",
    "\n",
    "# Configuring YOLOv5 to be Trianed with YAML\n",
    "YOLOv5 has many options that can be configured. The number of configuration options is in the hundreds. Since it would be inconvenient to type all of thes options out everytime you want to train YOLOv5, there is a special type of file called a '.yaml' file which stores the options ofr you. YAML files are very straightforward to use, so I'll briefly cover them here and talk about the most important configuration options.\n",
    "\n",
    "### Where to Create a YAML File\n",
    "To begin, I've generated a '.yaml' file for you to use. It is located within this repository and it's called 'numbers.yaml' Move it to the 'yolov5/data' folder. This is where all .yaml files go in order for the YOLOv5 training script to find them.\n",
    "\n",
    "### Move the prepared data.\n",
    "Next, copy your prepared data into the 'datasets/numbers' folder. This is where the training script will look for the data.\n",
    "\n",
    "### Run the training command\n",
    "Now you're ready to train yolov5. This step takes a very long time to complete, so make sure you computer is plugged into a charger and you can leave it alone for at least an hour. Change directories to the 'yolov5' folder in your terminal and run the following command:\n",
    "    \n",
    "        python train.py --img 640 --batch 16 --epochs 50 --data numbers.yaml --weights yolov5s.pt\n",
    "\n",
    "Here is what each of the options mean:\n",
    "* --img 640: This is the size of the images that will be used for training. The images will be resized to 640x640. This is a good size for training on a laptop. If you have a powerful GPU, you can increase this to 1024x1024. Don't do this though because it's not necessary and won't give you much benefit right now.\n",
    "\n",
    "* --batch 16: This is the number of images that will be used for each training step. The larger the batch size, the more memory will be used. If you have a powerful GPU, you can increase this to 32 or 64.\n",
    "\n",
    "* --epochs 50: This is the number of times the training data will be used to train the model. The more epochs, the better the model will be. However, the more epochs, the longer the training will take. If you have a powerful GPU, you can increase this to 100 or 200.\n",
    "\n",
    "* --data numbers.yaml: This is the name of the .yaml file that contains the configuration options for training. This is the file that you created earlier.\n",
    "\n",
    "* --weights yolov5s.pt: This is the name of the weights file that will be used to initialize the model. This is the file that you downloaded earlier."
   ]
  }
 ],
 "metadata": {
  "kernelspec": {
   "display_name": "Python 3.10.7 ('fallVenv': venv)",
   "language": "python",
   "name": "python3"
  },
  "language_info": {
   "name": "python",
   "version": "3.10.7"
  },
  "orig_nbformat": 4,
  "vscode": {
   "interpreter": {
    "hash": "17e3df286945ef06bb0630f3abff5969c186c353a40365555bb3858574e1b07b"
   }
  }
 },
 "nbformat": 4,
 "nbformat_minor": 2
}
