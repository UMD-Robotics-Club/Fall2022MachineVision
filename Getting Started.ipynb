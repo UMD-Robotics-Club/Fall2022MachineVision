{
 "cells": [
  {
   "cell_type": "markdown",
   "metadata": {},
   "source": [
    "Hello Everyone! Now that you have Jupyter notebooks installed you are in the right place! Jupyter notebooks are an awesome way to create interactive python scripts and write down your thoughts while your at it. In this file we'll be going over how to get started with retraining yolov5 on your own custom dataset."
   ]
  },
  {
   "cell_type": "markdown",
   "metadata": {},
   "source": [
    "# Creating a virtual enviroment\n",
    "Virtual enviroments are really important for any python programmer to know. THey allow you to have multiple versions of python installed on your computer and switch between them. This is really important for this project because we need to install a specific version of pytorch and torchvision. If you don't use a virtual enviroment you will have to uninstall your current version of pytorch and torchvision and install the specific version we need. This is a pain and can cause a lot of problems."
   ]
  },
  {
   "cell_type": "markdown",
   "metadata": {},
   "source": [
    "To create a virtual enviroment we will use the command\n",
    "\n",
    "```bash\n",
    "python -m venv fallVenv\n",
    "```\n",
    "(for some people you will have to use the command py instead of python. You know who you are.)\n",
    "\n",
    "You can fill in whatever you want for the name of the virtual enviroment.  I will use \"fallVenv\" for this tutorial and strongly recommend you do the same. Now that we have created our virtual enviroment we need to activate it. To do this we will use the command\n",
    "\n",
    "```bash\n",
    "fallVenv\\Scripts\\activate\n",
    "```\n",
    "\n",
    "For the first time you run this command this often gives an error that scripts aren't allowed by your administrative policy. You'll have to google that error message and the first stack overflow link should tell you how to fix it.\n",
    "\n",
    "Finally, we will need to reinstall the packages for our virtual enviroment. Change directories to the yolov5 folder and run the command\n",
    "\n",
    "```bash\n",
    "pip install -r requirements.txt\n",
    "```\n",
    "\n",
    "That's all there is to it! Your virtual enviroment is now installed! Let me know when you're finished so we can move onto the next step."
   ]
  },
  {
   "cell_type": "code",
   "execution_count": 3,
   "metadata": {},
   "outputs": [
    {
     "name": "stderr",
     "output_type": "stream",
     "text": [
      "Using cache found in C:\\Users\\quinn/.cache\\torch\\hub\\ultralytics_yolov5_master\n",
      "YOLOv5  2022-9-14 Python-3.9.5 torch-1.12.1+cpu CPU\n",
      "\n",
      "Fusing layers... \n",
      "YOLOv5s summary: 213 layers, 7225885 parameters, 0 gradients\n",
      "Adding AutoShape... \n"
     ]
    },
    {
     "name": "stdout",
     "output_type": "stream",
     "text": [
      "image 1/1: 480x640 3 persons\n",
      "Speed: 8.6ms pre-process, 926.1ms inference, 2.1ms NMS per image at shape (1, 3, 480, 640)\n"
     ]
    }
   ],
   "source": [
    "# this script may take a while to finish\n",
    "\n",
    "import cv2\n",
    "import torch\n",
    "import numpy as np\n",
    "import matplotlib.pyplot as plt\n",
    "%matplotlib inline\n",
    "\n",
    "# get an image fro mthe webcam\n",
    "cap = cv2.VideoCapture(0)\n",
    "ret, frame = cap.read()\n",
    "cap.release()\n",
    "\n",
    "# make sure a frame was actually returned\n",
    "if not ret:\n",
    "    exit()\n",
    "\n",
    "# convert the image to RGB\n",
    "frame = cv2.cvtColor(frame, cv2.COLOR_BGR2RGB)\n",
    "\n",
    "# load the yolov5 model with torch\n",
    "model = torch.hub.load('ultralytics/yolov5', 'yolov5s', pretrained=True)\n",
    "\n",
    "# run the model on the frame\n",
    "results = model(frame)\n",
    "\n",
    "# show the results\n",
    "results.print()\n",
    "results.show()\n"
   ]
  },
  {
   "cell_type": "markdown",
   "metadata": {},
   "source": [
    "This a great starting place on how to use YOLOv5 in your own python scripts. There's more stuff that needs to be done to improve it, but it works right?\n",
    "\n",
    "# Training YOLOv5 on your own dataset\n",
    "This is where you actaully get to start doing your own thing. My challenge to you is to create the reuired scripts in a jupyter notebook in order to:\n",
    "\n",
    "- Take a video and save it to a file\n",
    "- Take a video file and export it to image frames\n",
    "- Take a folder of images and randomly split it into a training and validation set\n",
    "\n",
    "OpenCV will be the library you need in order to do the first two steps and os is the library to do the last step. Go ahead and create a new branch on this repository titled \"yourname-trainingData\" and switch to that branch to begin programming. I'll be here if you have any questions on how to get started. Good luck!"
   ]
  }
 ],
 "metadata": {
  "kernelspec": {
   "display_name": "Python 3.9.5 64-bit",
   "language": "python",
   "name": "python3"
  },
  "language_info": {
   "codemirror_mode": {
    "name": "ipython",
    "version": 3
   },
   "file_extension": ".py",
   "mimetype": "text/x-python",
   "name": "python",
   "nbconvert_exporter": "python",
   "pygments_lexer": "ipython3",
   "version": "3.9.5"
  },
  "orig_nbformat": 4,
  "vscode": {
   "interpreter": {
    "hash": "9b95c11f0d1827d30db06c94873c13b23da8bade2fe5ce247b9492b9c30da77d"
   }
  }
 },
 "nbformat": 4,
 "nbformat_minor": 2
}
